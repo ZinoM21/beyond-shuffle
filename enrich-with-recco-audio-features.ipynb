{
 "cells": [
  {
   "cell_type": "code",
   "execution_count": 1,
   "metadata": {},
   "outputs": [
    {
     "name": "stdout",
     "output_type": "stream",
     "text": [
      "Loading ./data/Streaming_History_Audio_2023_36.json\n",
      "Loading ./data/Streaming_History_Audio_2021_27.json\n",
      "Loading ./data/Streaming_History_Audio_2024-2025_38.json\n",
      "Loading ./data/Streaming_History_Audio_2019_15.json\n",
      "Loading ./data/Streaming_History_Audio_2018_5.json\n",
      "Loading ./data/Streaming_History_Audio_2018_4.json\n",
      "Loading ./data/Streaming_History_Audio_2019_14.json\n",
      "Loading ./data/Streaming_History_Audio_2017_1.json\n",
      "Loading ./data/Streaming_History_Audio_2018_8.json\n",
      "Loading ./data/Streaming_History_Audio_2021_26.json\n",
      "Loading ./data/Streaming_History_Audio_2018-2019_9.json\n",
      "Loading ./data/Streaming_History_Audio_2025_39.json\n",
      "Loading ./data/Streaming_History_Audio_2019_13.json\n",
      "Loading ./data/Streaming_History_Audio_2020-2021_24.json\n",
      "Loading ./data/Streaming_History_Audio_2018_3.json\n",
      "Loading ./data/Streaming_History_Audio_2020_20.json\n",
      "Loading ./data/Streaming_History_Audio_2022_31.json\n",
      "Loading ./data/Streaming_History_Audio_2020_21.json\n",
      "Loading ./data/Streaming_History_Audio_2020_17.json\n",
      "Loading ./data/Streaming_History_Audio_2019_12.json\n",
      "Loading ./data/Streaming_History_Audio_2019-2020_16.json\n",
      "Loading ./data/Streaming_History_Audio_2019_11.json\n",
      "Loading ./data/Streaming_History_Audio_2020_18.json\n",
      "Loading ./data/Streaming_History_Audio_2022_33.json\n",
      "Loading ./data/Streaming_History_Audio_2022-2023_34.json\n",
      "Loading ./data/Streaming_History_Audio_2020_22.json\n",
      "Loading ./data/Streaming_History_Audio_2020_23.json\n",
      "Loading ./data/Streaming_History_Audio_2022_32.json\n",
      "Loading ./data/Streaming_History_Audio_2020_19.json\n",
      "Loading ./data/Streaming_History_Audio_2019_10.json\n",
      "Loading ./data/Streaming_History_Audio_2021_25.json\n",
      "Loading ./data/Streaming_History_Audio_2018_7.json\n",
      "Loading ./data/Streaming_History_Audio_2021_29.json\n",
      "Loading ./data/Streaming_History_Audio_2023-2024_37.json\n",
      "Loading ./data/Streaming_History_Audio_2014-2017_0.json\n",
      "Loading ./data/Streaming_History_Audio_2021_28.json\n",
      "Loading ./data/Streaming_History_Audio_2018_6.json\n",
      "Loading ./data/Streaming_History_Audio_2023_35.json\n",
      "Loading ./data/Streaming_History_Audio_2021-2022_30.json\n",
      "Loading ./data/Streaming_History_Audio_2017-2018_2.json\n",
      "Loaded 621791 streams, 52243 unique tracks\n"
     ]
    }
   ],
   "source": [
    "from data_import import load_streaming_data\n",
    "\n",
    "# modeled_data = pd.read_parquet('./out/modeled_data.parquet')\n",
    "streams = load_streaming_data()\n",
    "streams = streams.reset_index()\n",
    "\n",
    "print(f\"Loaded {len(streams)} streams, {len(streams['spotify_track_uri'].unique())} unique tracks\")"
   ]
  },
  {
   "cell_type": "code",
   "execution_count": 3,
   "metadata": {},
   "outputs": [
    {
     "name": "stdout",
     "output_type": "stream",
     "text": [
      "Modeling data with 621791 rows and 13645 audio features rows\n",
      "Concatenating audio features to streaming data set ...\n",
      "Converting timestamp to datetime ...\n",
      "Sorting data set by timestamp ...\n",
      "Renaming columns ...\n",
      "Dropping irrelevant columns ...\n",
      "Renaming existing columns & adding new ones ...\n",
      "Clearing data set from unwanted tracks ...\n",
      "Replacing special characters ...\n",
      "Renaming platforms ...\n",
      "Excluding devices: ['iPhone 5', 'iPhone 7', 'iPhone XS', 'Samsung Galaxy A5', 'Android Tablet', 'Sony Smart TV']\n",
      "\n",
      "Number of tracks per platform:\n",
      "platform\n",
      "iPhone X             133922\n",
      "ios                   65235\n",
      "Sonos Amp             60820\n",
      "Amazon Echo Dot       16999\n",
      "osx                   13264\n",
      "not_applicable        11454\n",
      "iPhone 11 Pro         11240\n",
      "MacBook                9285\n",
      "Playstation 4          7343\n",
      "Sonos One              6262\n",
      "Google Chromecast      1452\n",
      "iPad Mini 2             889\n",
      "iPad Pro 9.7            555\n",
      "Hama Speaker            541\n",
      "HTC One M8              437\n",
      "iPhone 6s               358\n",
      "android                 138\n",
      "iPhone 5s               130\n",
      "Bose Soundtouch          67\n",
      "playstation              13\n",
      "unknown                  13\n",
      "Windows 10                1\n",
      "Name: count, dtype: int64 \n",
      "\n",
      "Enriched data saved to ./out/enriched_data.parquet\n"
     ]
    }
   ],
   "source": [
    "import pandas as pd\n",
    "from data_modelling import model_data\n",
    "\n",
    "audio_features = pd.read_csv('./data/recco-audio-features/tracks_with_audio_features.csv')\n",
    "\n",
    "enriched_data = model_data(streams, ['iPhone 5', 'iPhone 7', 'iPhone XS', 'Samsung Galaxy A5', 'Android Tablet', 'Sony Smart TV'], audio_features)\n",
    "\n",
    "enriched_data.to_parquet('./out/enriched_data.parquet')\n",
    "\n",
    "print(f\"Enriched data saved to {'./out/enriched_data.parquet'}\")"
   ]
  }
 ],
 "metadata": {
  "kernelspec": {
   "display_name": ".venv",
   "language": "python",
   "name": "python3"
  },
  "language_info": {
   "codemirror_mode": {
    "name": "ipython",
    "version": 3
   },
   "file_extension": ".py",
   "mimetype": "text/x-python",
   "name": "python",
   "nbconvert_exporter": "python",
   "pygments_lexer": "ipython3",
   "version": "3.10.10"
  }
 },
 "nbformat": 4,
 "nbformat_minor": 2
}
