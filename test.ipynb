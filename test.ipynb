{
 "cells": [
  {
   "cell_type": "code",
   "execution_count": 1,
   "metadata": {},
   "outputs": [
    {
     "name": "stdout",
     "output_type": "stream",
     "text": [
      "Loading ./data/Streaming_History_Audio_2023_36.json\n",
      "Loading ./data/Streaming_History_Audio_2021_27.json\n",
      "Loading ./data/Streaming_History_Audio_2024-2025_38.json\n",
      "Loading ./data/Streaming_History_Audio_2019_15.json\n",
      "Loading ./data/Streaming_History_Audio_2018_5.json\n",
      "Loading ./data/Streaming_History_Audio_2018_4.json\n",
      "Loading ./data/Streaming_History_Audio_2019_14.json\n",
      "Loading ./data/Streaming_History_Audio_2017_1.json\n",
      "Loading ./data/Streaming_History_Audio_2018_8.json\n",
      "Loading ./data/Streaming_History_Audio_2021_26.json\n",
      "Loading ./data/Streaming_History_Audio_2018-2019_9.json\n",
      "Loading ./data/Streaming_History_Audio_2025_39.json\n",
      "Loading ./data/Streaming_History_Audio_2019_13.json\n",
      "Loading ./data/Streaming_History_Audio_2020-2021_24.json\n",
      "Loading ./data/Streaming_History_Audio_2018_3.json\n",
      "Loading ./data/Streaming_History_Audio_2020_20.json\n",
      "Loading ./data/Streaming_History_Audio_2022_31.json\n",
      "Loading ./data/Streaming_History_Audio_2020_21.json\n",
      "Loading ./data/Streaming_History_Audio_2020_17.json\n",
      "Loading ./data/Streaming_History_Audio_2019_12.json\n",
      "Loading ./data/Streaming_History_Audio_2019-2020_16.json\n",
      "Loading ./data/Streaming_History_Audio_2019_11.json\n",
      "Loading ./data/Streaming_History_Audio_2020_18.json\n",
      "Loading ./data/Streaming_History_Audio_2022_33.json\n",
      "Loading ./data/Streaming_History_Audio_2022-2023_34.json\n",
      "Loading ./data/Streaming_History_Audio_2020_22.json\n",
      "Loading ./data/Streaming_History_Audio_2020_23.json\n",
      "Loading ./data/Streaming_History_Audio_2022_32.json\n",
      "Loading ./data/Streaming_History_Audio_2020_19.json\n",
      "Loading ./data/Streaming_History_Audio_2019_10.json\n",
      "Loading ./data/Streaming_History_Audio_2021_25.json\n",
      "Loading ./data/Streaming_History_Audio_2018_7.json\n",
      "Loading ./data/Streaming_History_Audio_2021_29.json\n",
      "Loading ./data/Streaming_History_Audio_2023-2024_37.json\n",
      "Loading ./data/Streaming_History_Audio_2014-2017_0.json\n",
      "Loading ./data/Streaming_History_Audio_2021_28.json\n",
      "Loading ./data/Streaming_History_Audio_2018_6.json\n",
      "Loading ./data/Streaming_History_Audio_2023_35.json\n",
      "Loading ./data/Streaming_History_Audio_2021-2022_30.json\n",
      "Loading ./data/Streaming_History_Audio_2017-2018_2.json\n",
      "Modeling data with 621791 rows\n",
      "Converting timestamp to datetime ...\n",
      "Sorting data set by timestamp ...\n",
      "Renaming columns ...\n",
      "Dropping irrelevant columns ...\n",
      "Renaming existing columns & adding new ones ...\n"
     ]
    },
    {
     "ename": "KeyError",
     "evalue": "'api_song_lenght_in_ms'",
     "output_type": "error",
     "traceback": [
      "\u001b[0;31m---------------------------------------------------------------------------\u001b[0m",
      "\u001b[0;31mKeyError\u001b[0m                                  Traceback (most recent call last)",
      "File \u001b[0;32m~/Documents/00-repos/zz-archive/spotify-streaming-history/.venv/lib/python3.10/site-packages/pandas/core/indexes/base.py:3805\u001b[0m, in \u001b[0;36mIndex.get_loc\u001b[0;34m(self, key)\u001b[0m\n\u001b[1;32m   3804\u001b[0m \u001b[38;5;28;01mtry\u001b[39;00m:\n\u001b[0;32m-> 3805\u001b[0m     \u001b[38;5;28;01mreturn\u001b[39;00m \u001b[38;5;28;43mself\u001b[39;49m\u001b[38;5;241;43m.\u001b[39;49m\u001b[43m_engine\u001b[49m\u001b[38;5;241;43m.\u001b[39;49m\u001b[43mget_loc\u001b[49m\u001b[43m(\u001b[49m\u001b[43mcasted_key\u001b[49m\u001b[43m)\u001b[49m\n\u001b[1;32m   3806\u001b[0m \u001b[38;5;28;01mexcept\u001b[39;00m \u001b[38;5;167;01mKeyError\u001b[39;00m \u001b[38;5;28;01mas\u001b[39;00m err:\n",
      "File \u001b[0;32mindex.pyx:167\u001b[0m, in \u001b[0;36mpandas._libs.index.IndexEngine.get_loc\u001b[0;34m()\u001b[0m\n",
      "File \u001b[0;32mindex.pyx:196\u001b[0m, in \u001b[0;36mpandas._libs.index.IndexEngine.get_loc\u001b[0;34m()\u001b[0m\n",
      "File \u001b[0;32mpandas/_libs/hashtable_class_helper.pxi:7081\u001b[0m, in \u001b[0;36mpandas._libs.hashtable.PyObjectHashTable.get_item\u001b[0;34m()\u001b[0m\n",
      "File \u001b[0;32mpandas/_libs/hashtable_class_helper.pxi:7089\u001b[0m, in \u001b[0;36mpandas._libs.hashtable.PyObjectHashTable.get_item\u001b[0;34m()\u001b[0m\n",
      "\u001b[0;31mKeyError\u001b[0m: 'api_song_lenght_in_ms'",
      "\nThe above exception was the direct cause of the following exception:\n",
      "\u001b[0;31mKeyError\u001b[0m                                  Traceback (most recent call last)",
      "Cell \u001b[0;32mIn[1], line 7\u001b[0m\n\u001b[1;32m      5\u001b[0m \u001b[38;5;66;03m# modeled_data = pd.read_parquet('./out/modeled_data.parquet')\u001b[39;00m\n\u001b[1;32m      6\u001b[0m df \u001b[38;5;241m=\u001b[39m load_streaming_data()\n\u001b[0;32m----> 7\u001b[0m modeled_data \u001b[38;5;241m=\u001b[39m \u001b[43mmodel_data\u001b[49m\u001b[43m(\u001b[49m\u001b[43mdf\u001b[49m\u001b[43m,\u001b[49m\u001b[43m \u001b[49m\u001b[43m[\u001b[49m\u001b[38;5;124;43m'\u001b[39;49m\u001b[38;5;124;43miPhone 5\u001b[39;49m\u001b[38;5;124;43m'\u001b[39;49m\u001b[43m,\u001b[49m\u001b[43m \u001b[49m\u001b[38;5;124;43m'\u001b[39;49m\u001b[38;5;124;43miPhone 7\u001b[39;49m\u001b[38;5;124;43m'\u001b[39;49m\u001b[43m,\u001b[49m\u001b[43m \u001b[49m\u001b[38;5;124;43m'\u001b[39;49m\u001b[38;5;124;43miPhone XS\u001b[39;49m\u001b[38;5;124;43m'\u001b[39;49m\u001b[43m,\u001b[49m\u001b[43m \u001b[49m\u001b[38;5;124;43m'\u001b[39;49m\u001b[38;5;124;43mSamsung Galaxy A5\u001b[39;49m\u001b[38;5;124;43m'\u001b[39;49m\u001b[43m,\u001b[49m\u001b[43m \u001b[49m\u001b[38;5;124;43m'\u001b[39;49m\u001b[38;5;124;43mAndroid Tablet\u001b[39;49m\u001b[38;5;124;43m'\u001b[39;49m\u001b[43m,\u001b[49m\u001b[43m \u001b[49m\u001b[38;5;124;43m'\u001b[39;49m\u001b[38;5;124;43mSony Smart TV\u001b[39;49m\u001b[38;5;124;43m'\u001b[39;49m\u001b[43m]\u001b[49m\u001b[43m,\u001b[49m\u001b[43m \u001b[49m\u001b[38;5;28;43;01mNone\u001b[39;49;00m\u001b[43m)\u001b[49m\n\u001b[1;32m     10\u001b[0m \u001b[38;5;66;03m# select all rows where incognito is True\u001b[39;00m\n\u001b[1;32m     11\u001b[0m incognito_data \u001b[38;5;241m=\u001b[39m modeled_data[modeled_data[\u001b[38;5;124m'\u001b[39m\u001b[38;5;124mincognito_mode\u001b[39m\u001b[38;5;124m'\u001b[39m] \u001b[38;5;241m==\u001b[39m \u001b[38;5;28;01mTrue\u001b[39;00m]\n",
      "File \u001b[0;32m~/Documents/00-repos/zz-archive/spotify-streaming-history/data_modelling.py:51\u001b[0m, in \u001b[0;36mmodel_data\u001b[0;34m(df, exclude_devices, df_audio_features)\u001b[0m\n\u001b[1;32m     49\u001b[0m df_renamed_relevant[\u001b[38;5;124m'\u001b[39m\u001b[38;5;124mlistening_time_in_min\u001b[39m\u001b[38;5;124m'\u001b[39m] \u001b[38;5;241m=\u001b[39m df_renamed_relevant[\u001b[38;5;124m'\u001b[39m\u001b[38;5;124mlistening_time_in_s\u001b[39m\u001b[38;5;124m'\u001b[39m] \u001b[38;5;241m/\u001b[39m \u001b[38;5;241m60\u001b[39m\n\u001b[1;32m     50\u001b[0m df_renamed_relevant[\u001b[38;5;124m'\u001b[39m\u001b[38;5;124mlistening_time_in_h\u001b[39m\u001b[38;5;124m'\u001b[39m] \u001b[38;5;241m=\u001b[39m df_renamed_relevant[\u001b[38;5;124m'\u001b[39m\u001b[38;5;124mlistening_time_in_min\u001b[39m\u001b[38;5;124m'\u001b[39m] \u001b[38;5;241m/\u001b[39m \u001b[38;5;241m60\u001b[39m\n\u001b[0;32m---> 51\u001b[0m df_renamed_relevant[\u001b[38;5;124m'\u001b[39m\u001b[38;5;124msong_lenght_in_s\u001b[39m\u001b[38;5;124m'\u001b[39m] \u001b[38;5;241m=\u001b[39m \u001b[43mdf_renamed_relevant\u001b[49m\u001b[43m[\u001b[49m\u001b[38;5;124;43m'\u001b[39;49m\u001b[38;5;124;43mapi_song_lenght_in_ms\u001b[39;49m\u001b[38;5;124;43m'\u001b[39;49m\u001b[43m]\u001b[49m \u001b[38;5;241m/\u001b[39m \u001b[38;5;241m1000\u001b[39m\n\u001b[1;32m     52\u001b[0m df_renamed_relevant[\u001b[38;5;124m'\u001b[39m\u001b[38;5;124msong_lenght_in_min\u001b[39m\u001b[38;5;124m'\u001b[39m] \u001b[38;5;241m=\u001b[39m df_renamed_relevant[\u001b[38;5;124m'\u001b[39m\u001b[38;5;124msong_lenght_in_s\u001b[39m\u001b[38;5;124m'\u001b[39m] \u001b[38;5;241m/\u001b[39m \u001b[38;5;241m60\u001b[39m\n\u001b[1;32m     53\u001b[0m df_renamed_relevant[\u001b[38;5;124m'\u001b[39m\u001b[38;5;124msong_lenght_in_h\u001b[39m\u001b[38;5;124m'\u001b[39m] \u001b[38;5;241m=\u001b[39m df_renamed_relevant[\u001b[38;5;124m'\u001b[39m\u001b[38;5;124msong_lenght_in_min\u001b[39m\u001b[38;5;124m'\u001b[39m] \u001b[38;5;241m/\u001b[39m \u001b[38;5;241m60\u001b[39m\n",
      "File \u001b[0;32m~/Documents/00-repos/zz-archive/spotify-streaming-history/.venv/lib/python3.10/site-packages/pandas/core/frame.py:4102\u001b[0m, in \u001b[0;36mDataFrame.__getitem__\u001b[0;34m(self, key)\u001b[0m\n\u001b[1;32m   4100\u001b[0m \u001b[38;5;28;01mif\u001b[39;00m \u001b[38;5;28mself\u001b[39m\u001b[38;5;241m.\u001b[39mcolumns\u001b[38;5;241m.\u001b[39mnlevels \u001b[38;5;241m>\u001b[39m \u001b[38;5;241m1\u001b[39m:\n\u001b[1;32m   4101\u001b[0m     \u001b[38;5;28;01mreturn\u001b[39;00m \u001b[38;5;28mself\u001b[39m\u001b[38;5;241m.\u001b[39m_getitem_multilevel(key)\n\u001b[0;32m-> 4102\u001b[0m indexer \u001b[38;5;241m=\u001b[39m \u001b[38;5;28;43mself\u001b[39;49m\u001b[38;5;241;43m.\u001b[39;49m\u001b[43mcolumns\u001b[49m\u001b[38;5;241;43m.\u001b[39;49m\u001b[43mget_loc\u001b[49m\u001b[43m(\u001b[49m\u001b[43mkey\u001b[49m\u001b[43m)\u001b[49m\n\u001b[1;32m   4103\u001b[0m \u001b[38;5;28;01mif\u001b[39;00m is_integer(indexer):\n\u001b[1;32m   4104\u001b[0m     indexer \u001b[38;5;241m=\u001b[39m [indexer]\n",
      "File \u001b[0;32m~/Documents/00-repos/zz-archive/spotify-streaming-history/.venv/lib/python3.10/site-packages/pandas/core/indexes/base.py:3812\u001b[0m, in \u001b[0;36mIndex.get_loc\u001b[0;34m(self, key)\u001b[0m\n\u001b[1;32m   3807\u001b[0m     \u001b[38;5;28;01mif\u001b[39;00m \u001b[38;5;28misinstance\u001b[39m(casted_key, \u001b[38;5;28mslice\u001b[39m) \u001b[38;5;129;01mor\u001b[39;00m (\n\u001b[1;32m   3808\u001b[0m         \u001b[38;5;28misinstance\u001b[39m(casted_key, abc\u001b[38;5;241m.\u001b[39mIterable)\n\u001b[1;32m   3809\u001b[0m         \u001b[38;5;129;01mand\u001b[39;00m \u001b[38;5;28many\u001b[39m(\u001b[38;5;28misinstance\u001b[39m(x, \u001b[38;5;28mslice\u001b[39m) \u001b[38;5;28;01mfor\u001b[39;00m x \u001b[38;5;129;01min\u001b[39;00m casted_key)\n\u001b[1;32m   3810\u001b[0m     ):\n\u001b[1;32m   3811\u001b[0m         \u001b[38;5;28;01mraise\u001b[39;00m InvalidIndexError(key)\n\u001b[0;32m-> 3812\u001b[0m     \u001b[38;5;28;01mraise\u001b[39;00m \u001b[38;5;167;01mKeyError\u001b[39;00m(key) \u001b[38;5;28;01mfrom\u001b[39;00m\u001b[38;5;250m \u001b[39m\u001b[38;5;21;01merr\u001b[39;00m\n\u001b[1;32m   3813\u001b[0m \u001b[38;5;28;01mexcept\u001b[39;00m \u001b[38;5;167;01mTypeError\u001b[39;00m:\n\u001b[1;32m   3814\u001b[0m     \u001b[38;5;66;03m# If we have a listlike key, _check_indexing_error will raise\u001b[39;00m\n\u001b[1;32m   3815\u001b[0m     \u001b[38;5;66;03m#  InvalidIndexError. Otherwise we fall through and re-raise\u001b[39;00m\n\u001b[1;32m   3816\u001b[0m     \u001b[38;5;66;03m#  the TypeError.\u001b[39;00m\n\u001b[1;32m   3817\u001b[0m     \u001b[38;5;28mself\u001b[39m\u001b[38;5;241m.\u001b[39m_check_indexing_error(key)\n",
      "\u001b[0;31mKeyError\u001b[0m: 'api_song_lenght_in_ms'"
     ]
    }
   ],
   "source": [
    "\n",
    "from data_import import load_streaming_data\n",
    "from data_modelling import model_data\n",
    "\n",
    "\n",
    "# modeled_data = pd.read_parquet('./out/modeled_data.parquet')\n",
    "df = load_streaming_data()\n",
    "modeled_data = model_data(df, ['iPhone 5', 'iPhone 7', 'iPhone XS', 'Samsung Galaxy A5', 'Android Tablet', 'Sony Smart TV'], None)\n",
    "\n",
    "\n",
    "# select all rows where incognito is True\n",
    "incognito_data = modeled_data[modeled_data['incognito_mode'] == True]\n",
    "\n",
    "print(incognito_data)"
   ]
  },
  {
   "cell_type": "code",
   "execution_count": null,
   "metadata": {},
   "outputs": [],
   "source": []
  }
 ],
 "metadata": {
  "kernelspec": {
   "display_name": ".venv",
   "language": "python",
   "name": "python3"
  },
  "language_info": {
   "codemirror_mode": {
    "name": "ipython",
    "version": 3
   },
   "file_extension": ".py",
   "mimetype": "text/x-python",
   "name": "python",
   "nbconvert_exporter": "python",
   "pygments_lexer": "ipython3",
   "version": "3.10.10"
  }
 },
 "nbformat": 4,
 "nbformat_minor": 2
}
